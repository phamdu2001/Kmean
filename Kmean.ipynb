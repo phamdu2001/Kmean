{
 "cells": [
  {
   "cell_type": "code",
   "execution_count": 17,
   "id": "bd03fc5a",
   "metadata": {},
   "outputs": [],
   "source": [
    "import numpy as np\n",
    "import matplotlib.pyplot as plt"
   ]
  },
  {
   "cell_type": "code",
   "execution_count": 18,
   "id": "8d5e5aa1",
   "metadata": {},
   "outputs": [],
   "source": [
    "arr1 = np.sort(np.random.random((20)) * 20)\n",
    "arr2 = np.random.random((20)) * 20\n",
    "arr = np.array([arr1,arr2])"
   ]
  },
  {
   "cell_type": "code",
   "execution_count": 19,
   "id": "f53a919f",
   "metadata": {},
   "outputs": [
    {
     "data": {
      "image/png": "[encoded data removed]",
      "text/plain": [
       "<Figure size 432x288 with 1 Axes>"
      ]
     },
     "metadata": {
      "needs_background": "light"
     },
     "output_type": "display_data"
    }
   ],
   "source": [
    "plt.plot(arr1,arr2,'bD')\n",
    "plt.show()"
   ]
  },
  {
   "cell_type": "code",
   "execution_count": 20,
   "id": "28399adf",
   "metadata": {},
   "outputs": [],
   "source": [
    "arr1 = np.sort(arr1)\n",
    "arr2 = np.sort(arr2)\n",
    "center1 = np.array([arr1[0],arr2[0]])\n",
    "center2 = np.array([arr2[-1],arr2[-1]])"
   ]
  },
  {
   "cell_type": "code",
   "execution_count": 21,
   "id": "eb004ecb",
   "metadata": {},
   "outputs": [],
   "source": [
    "import math\n",
    "def dimentions(x1,x2):\n",
    "    return math.sqrt((x1[0]-x2[0])**2+(x1[1]-x2[1])**2)"
   ]
  },
  {
   "cell_type": "code",
   "execution_count": 22,
   "id": "e2cb783b",
   "metadata": {},
   "outputs": [],
   "source": [
    "def kmean(arr, epoch):\n",
    "    center1 = np.array([arr[0][0], arr[1][0]])\n",
    "    center2 = np.array([arr[0][-1], arr[1][-1]]) \n",
    "    for n in range(epoch+1):\n",
    "        x1 = np.array([])\n",
    "        x2 = np.array([])\n",
    "        y1 = np.array([])\n",
    "        y2 = np.array([])\n",
    "        for i in range(20):\n",
    "            d1 = dimentions(np.array([arr[0][i],arr[1][i]]), center1)\n",
    "            d2 = dimentions(np.array([arr[0][i],arr[1][i]]), center2)\n",
    "            if d1<d2:\n",
    "                x1 = np.append(x1, arr[0][i])\n",
    "                y1 = np.append(y1, arr[1][i])\n",
    "            else:\n",
    "                x2 = np.append(x2, arr[0][i])\n",
    "                y2 = np.append(y2, arr[1][i])\n",
    "        if n == epoch:\n",
    "            break\n",
    "        center1 = np.array([x1.mean(),y1.mean()])\n",
    "        center2 = np.array([x2.mean(),y2.mean()])\n",
    "    return x1,y1,x2,y2"
   ]
  },
  {
   "cell_type": "code",
   "execution_count": 23,
   "id": "b4da132e",
   "metadata": {},
   "outputs": [],
   "source": [
    "x1,y1,x2,y2 = kmean(arr, 10)"
   ]
  },
  {
   "cell_type": "code",
   "execution_count": 24,
   "id": "afe4f2e3",
   "metadata": {},
   "outputs": [
    {
     "data": {
      "image/png": "[encoded data removed]",
      "text/plain": [
       "<Figure size 432x288 with 1 Axes>"
      ]
     },
     "metadata": {
      "needs_background": "light"
     },
     "output_type": "display_data"
    }
   ],
   "source": [
    "plt.plot(x1,y1,'r^')\n",
    "plt.plot(x2,y2,'go')\n",
    "plt.show()"
   ]
  },
  {
   "cell_type": "code",
   "execution_count": null,
   "id": "8a305590",
   "metadata": {},
   "outputs": [],
   "source": []
  }
 ],
 "metadata": {
  "kernelspec": {
   "display_name": "Python 3",
   "language": "python",
   "name": "python3"
  },
  "language_info": {
   "codemirror_mode": {
    "name": "ipython",
    "version": 3
   },
   "file_extension": ".py",
   "mimetype": "text/x-python",
   "name": "python",
   "nbconvert_exporter": "python",
   "pygments_lexer": "ipython3",
   "version": "3.7.10"
  }
 },
 "nbformat": 4,
 "nbformat_minor": 5
}
